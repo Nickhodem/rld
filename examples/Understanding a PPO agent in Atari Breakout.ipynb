{
 "cells": [
  {
   "cell_type": "markdown",
   "metadata": {},
   "source": [
    "## Training an Atari Breakout agent using PPO"
   ]
  },
  {
   "cell_type": "code",
   "execution_count": null,
   "metadata": {},
   "outputs": [],
   "source": [
    "import ray\n",
    "from ray.tune import run"
   ]
  },
  {
   "cell_type": "code",
   "execution_count": null,
   "metadata": {},
   "outputs": [],
   "source": [
    "ray.init()"
   ]
  },
  {
   "cell_type": "code",
   "execution_count": null,
   "metadata": {},
   "outputs": [],
   "source": [
    "result = run(\n",
    "    \"PPO\",\n",
    "    name=\"atari-breakout\",\n",
    "    local_dir=\"/tmp/ray-results\",\n",
    "    checkpoint_at_end=True,\n",
    "    stop={\"timesteps_total\": 1},\n",
    "    config={\n",
    "        # Based on `rllib/tuned_examples/ppo/atari-ppo.yaml`\n",
    "        \"env\": \"BreakoutNoFrameskip-v4\",\n",
    "        \"framework\": \"torch\",\n",
    "        \"lambda\": 0.95,\n",
    "        \"kl_coeff\": 0.5,\n",
    "        \"clip_rewards\": True,\n",
    "        \"clip_param\": 0.1,\n",
    "        \"vf_clip_param\": 10.0,\n",
    "        \"entropy_coeff\": 0.01,\n",
    "        \"train_batch_size\": 5000,\n",
    "        \"rollout_fragment_length\": 100,\n",
    "        \"sgd_minibatch_size\": 500,\n",
    "        \"num_sgd_iter\": 10,\n",
    "        \"num_workers\": 2,\n",
    "        \"num_envs_per_worker\": 5,\n",
    "        \"batch_mode\": \"truncate_episodes\",\n",
    "        \"observation_filter\": \"NoFilter\",\n",
    "        \"vf_share_layers\": True,\n",
    "        \"num_gpus\": 0,\n",
    "    },\n",
    ")"
   ]
  },
  {
   "cell_type": "code",
   "execution_count": null,
   "metadata": {},
   "outputs": [],
   "source": [
    "checkpoint_path = result.get_best_trial(\"episode_reward_mean\").checkpoint.value"
   ]
  },
  {
   "cell_type": "code",
   "execution_count": null,
   "metadata": {},
   "outputs": [],
   "source": [
    "ray.shutdown()"
   ]
  },
  {
   "cell_type": "markdown",
   "metadata": {},
   "source": [
    "## Collect a rollout"
   ]
  },
  {
   "cell_type": "code",
   "execution_count": null,
   "metadata": {},
   "outputs": [],
   "source": [
    "!rllib rollout \\\n",
    "--run PPO \\\n",
    "--use-shelve \\\n",
    "--no-render \\\n",
    "--episodes 5 \\\n",
    "--out /tmp/atari-breakout.ray_rollout \\\n",
    "$checkpoint_path"
   ]
  },
  {
   "cell_type": "markdown",
   "metadata": {},
   "source": [
    "## Calculate attributations"
   ]
  },
  {
   "cell_type": "code",
   "execution_count": null,
   "metadata": {},
   "outputs": [],
   "source": [
    "config_content = f\"\"\"\n",
    "import json\n",
    "from pathlib import Path\n",
    "\n",
    "import numpy as np\n",
    "import ray\n",
    "from ray.rllib.agents.ppo import PPOTrainer\n",
    "\n",
    "from rld.attributation import AttributationTarget, AttributationNormalizationMode\n",
    "from rld.config import Config\n",
    "from rld.model import Model, RayModelWrapper\n",
    "from rld.typing import ObsLike\n",
    "\n",
    "\n",
    "def get_model() -> Model:\n",
    "    checkpoint_path = Path(r\"{checkpoint_path}\")\n",
    "    params_path = checkpoint_path.parents[1] / \"params.json\"\n",
    "    with open(params_path) as f:\n",
    "        params = json.load(f)\n",
    "    ray.init()\n",
    "    trainer = PPOTrainer(config=params)\n",
    "    trainer.restore(str(checkpoint_path))\n",
    "    model = RayModelWrapper(trainer.get_policy().model)\n",
    "    ray.shutdown()\n",
    "    return model\n",
    "\n",
    "\n",
    "def baseline_builder(obs: ObsLike):\n",
    "    return np.zeros_like(obs)\n",
    "\n",
    "\n",
    "model = get_model()\n",
    "\n",
    "\n",
    "config = Config(\n",
    "    model=model,\n",
    "    baseline=baseline_builder,\n",
    "    target=AttributationTarget.TOP5,\n",
    "    normalize_sign=AttributationNormalizationMode.POSITIVE,\n",
    ")\n",
    "\n",
    "\"\"\"\n",
    "with open(\"/tmp/atari_breakout_config.py\", \"w\") as f:\n",
    "    f.write(config_content)"
   ]
  },
  {
   "cell_type": "code",
   "execution_count": null,
   "metadata": {},
   "outputs": [],
   "source": [
    "!rld attribute \\\n",
    "--rllib \\\n",
    "--out /tmp/atari-breakout.rld \\\n",
    "/tmp/atari_breakout_config.py \\\n",
    "/tmp/atari-breakout.ray_rollout"
   ]
  },
  {
   "cell_type": "markdown",
   "metadata": {},
   "source": [
    "## Visualize results"
   ]
  },
  {
   "cell_type": "code",
   "execution_count": null,
   "metadata": {},
   "outputs": [],
   "source": [
    "!rld start --viewer cartpole /tmp/atari-breakout.rld"
   ]
  },
  {
   "cell_type": "code",
   "execution_count": null,
   "metadata": {},
   "outputs": [],
   "source": []
  }
 ],
 "metadata": {
  "kernelspec": {
   "display_name": "Python 3",
   "language": "python",
   "name": "python3"
  },
  "language_info": {
   "codemirror_mode": {
    "name": "ipython",
    "version": 3
   },
   "file_extension": ".py",
   "mimetype": "text/x-python",
   "name": "python",
   "nbconvert_exporter": "python",
   "pygments_lexer": "ipython3",
   "version": "3.7.7"
  }
 },
 "nbformat": 4,
 "nbformat_minor": 4
}
